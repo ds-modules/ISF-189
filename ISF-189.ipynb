{
 "cells": [
  {
   "cell_type": "markdown",
   "metadata": {
    "collapsed": true,
    "deletable": true,
    "editable": true
   },
   "source": [
    "# ISF 189 Module\n",
    "\n",
    "Welcome to lab! Please read this lab in its entirety, as the analysis will make a lot more sense with the background context provided.\n",
    "\n",
    "This lab is intended to be a hands-on introduction to data science as it can be applied to SES (socio-economic status). \n",
    "\n",
    "SES is often measured in variables of salary, parental education, occupation status, and other factors. Historically, income has been treated as the defining factor of SES, and there have been many research studies showing that SES as defined by income is the leading factor for school performance in test scores. If you are interested in learning more, you can visit the American Psychological Association to see more research: http://www.apa.org/pi/ses/resources/publications/education.aspx\n",
    "\n",
    "Today we are going to suggest using real-world data that this may not be the case. We are going to give you the chance to explore and toggle between different variables to define SES and how much importance to assign to each variable. **Data science is not just about plugging in the numbers, it is about making many decisions and backing up those decisions with quantitative reasoning.** This can have implications later in how the world treats SES and public policy suggestions.\n",
    "\n",
    "In addition, we are going to suggest that the defining variable for SES might not even be income, but rather family wealth, that provides a more accurate prediction for school performance. \n",
    "\n",
    "There is no standard method of measuring SES. In this lab, we are going to define SES in two different ways:\n",
    "\n",
    "1. SES is a positive number that represents the ratio: $\\displaystyle \\frac {\\text{individual SES}} {\\text{median US SES}}$   where 1 means that this individual is exactly at the median SES. This number will always be positive because we are assuming that there will be no cases of negative wealth.\n",
    "<br>\n",
    "\n",
    "2. individual SES is a number such that \n",
    "\n",
    "$SES = p_i * \\text{income score} + p_e * \\text{years of education}$ \n",
    "\n",
    "where $p_i$ is the importance we assign to income on a scale of 0 to 1 and $p_e$ is the importance we assign to years of education on a scale of 0 to 1. Throughout this lab we will be changing the values of $p_i$ and $p_e$ but it is important to remember that these values *must add up to 1*. Our default values at first are $p_i$ = 0.8 and $p_e$ = 0.2.\n",
    "<br>\n",
    "\n",
    "\n",
    "Income score is a score assigned to each income bracket to ensure that all our factors are on the same scale. Our income scores are defined as follows:\n",
    "\n",
    "### Table 1: Income Scores\n",
    "\n",
    "<table>\n",
    "  <tr>\n",
    "    <th>Income Score</th>\n",
    "    <th>Income Bracket (\\$) </th>\n",
    "  </tr>\n",
    "  <tr>\n",
    "    <td>1</td>\n",
    "    <td>less than \\$10,000</td>\n",
    "  </tr>\n",
    " <tr>\n",
    "    <td>2</td>\n",
    "    <td>\\$15,000 - \\$19,999</td>\n",
    "  </tr>\n",
    "  <tr>\n",
    "    <td>3</td>\n",
    "    <td>\\$20,000 - \\$24,999</td>\n",
    "  </tr>\n",
    "  <tr>\n",
    "    <td>4</td>\n",
    "    <td>\\$25,000 - \\$29,999</td>\n",
    "  </tr>\n",
    "  <tr>\n",
    "    <td>5</td>\n",
    "    <td>\\$30,000 - \\$34,999</td>\n",
    "  </tr>\n",
    "    <tr>\n",
    "    <td>6</td>\n",
    "    <td>\\$35,000 - \\$39,999</td>\n",
    "  </tr>\n",
    "    <tr>\n",
    "    <td>7</td>\n",
    "    <td>\\$40,000 - \\$44,999</td>\n",
    "  </tr>\n",
    "    <tr>\n",
    "    <td>8</td>\n",
    "    <td>\\$45,000 - \\$49,999</td>\n",
    "  </tr>\n",
    "    <tr>\n",
    "    <td>9</td>\n",
    "    <td>\\$50,000 - \\$59,999</td>\n",
    "  </tr>\n",
    "   <tr>\n",
    "    <td>10</td>\n",
    "    <td>\\$60,000 - \\$74,999</td>\n",
    "  </tr> \n",
    "   <tr>\n",
    "    <td>11</td>\n",
    "    <td>\\$75,000 - \\$99,999</td>\n",
    "  </tr>   \n",
    "   <tr>\n",
    "    <td>12</td>\n",
    "    <td>\\$100,000 - \\$124,999</td>\n",
    "  </tr> \n",
    "   <tr>\n",
    "    <td>13</td>\n",
    "    <td>\\$125,000 - \\$149,999</td>\n",
    "  </tr> \n",
    "   <tr>\n",
    "    <td>14</td>\n",
    "    <td>\\$150,000 - \\$199,999</td>\n",
    "  </tr>\n",
    "   <tr>\n",
    "    <td>15</td>\n",
    "    <td>\\$200,000 or more</td>\n",
    "  </tr> \n",
    "</table>\n",
    "\n",
    "As you work through the lab, there will be lab assistants in the room to answer any of your questions. If you get stuck at any point, feel free to ask a neighbor or one of the lab assistants for help.\n",
    "\n",
    "## What This Lab Will Cover\n",
    "1. Running Jupyter Notebooks\n",
    "2. Data Analysis of SES compositions\n",
    "3. Visualization & Interpretation \n",
    "\n",
    "## What you need to do:\n",
    "* Read the content, complete the questions \n",
    "* Analyze the data\n",
    "* Submit the assignment\n",
    "\n",
    "# 1. Running Jupyter Notebooks\n",
    "\n",
    "You are currently working in a Jupyter Notebook. A Notebook allows text and code to be combined into one document. Each rectangular section of a notebook is called a \"cell.\" There are two types of cells in this notebook: text cells and code cells. \n",
    "\n",
    "Jupyter allows you to run simulations and regressions in real time. To do this, select a code cell, and click the \"run cell\" button at the top that looks like ▶| to confirm any changes. Alternatively, you can hold down the `shift` key and then press `return` or `enter`.\n",
    "\n",
    "In the following simulations, anytime you see `In [ ]` you should click the \"run cell\" button to see output. **If you get an error message after running a cell, go back to the beginning of the lab and make sure that every previous code cell has been run.**\n",
    "\n",
    "## 1.1 Importing Modules\n",
    "\n",
    "First we need to import some modules so that we can call the functions from within. We are going to use these functions to manipulate data tables and conduct math operations. Run the code cell below to import these modules."
   ]
  },
  {
   "cell_type": "code",
   "execution_count": null,
   "metadata": {
    "collapsed": false,
    "deletable": true,
    "editable": true
   },
   "outputs": [],
   "source": [
    "from datascience import *\n",
    "import numpy as np\n",
    "import matplotlib.pyplot as plt\n",
    "from ipywidgets import *\n",
    "%matplotlib inline"
   ]
  },
  {
   "cell_type": "markdown",
   "metadata": {
    "deletable": true,
    "editable": true
   },
   "source": [
    "## 1.2 Reading Data\n",
    "In order to examine how the weighting of these variables affects SES, we are going to examine datasets from the 5-year American Community Survey (ACS). The American Community Survey is an ongoing statistical survey by the U.S. Census Bureau. In this table, we have consolidated household income (inflation adjusted dollar) and years of education (educational attainment), and Food Stamps/Supplemental Nutrition Assistance Program (SNAP) status data for 4 different ethnicities. Run the code cell below to read in the data.\n",
    "<br>Source: https://factfinder.census.gov"
   ]
  },
  {
   "cell_type": "code",
   "execution_count": null,
   "metadata": {
    "collapsed": false,
    "deletable": true,
    "editable": true
   },
   "outputs": [],
   "source": [
    "educ = Table.read_table('data/totaleduc.csv')\n",
    "educbyrace = Table.read_table('data/educbyrace.csv')\n",
    "income = Table.read_table('data/totalincome.csv')\n",
    "incomebyrace = Table.read_table('data/incomebyrace.csv')\n",
    "wealthscoretable = Table.read_table('data/wealthscore.csv')\n",
    "wealthbyrace = Table.read_table('data/wealthbyrace.csv')\n",
    "lorenzdata = Table.read_table('data/lorenzdata.csv')"
   ]
  },
  {
   "cell_type": "code",
   "execution_count": null,
   "metadata": {
    "collapsed": false,
    "deletable": true,
    "editable": true
   },
   "outputs": [],
   "source": [
    "incomebyrace"
   ]
  },
  {
   "cell_type": "markdown",
   "metadata": {
    "deletable": true,
    "editable": true
   },
   "source": [
    "# Showing Inequality: Boxplots\n",
    "\n",
    "We want to see how inequality through wealth and income can vary through different races. One good way to demonstrate this is through boxplots*.\n",
    "\n",
    "*A quick review of boxplots: boxplots highlight the median, upper quartile, lower quartile, and outliers in a set of data."
   ]
  },
  {
   "cell_type": "code",
   "execution_count": null,
   "metadata": {
    "collapsed": false,
    "deletable": true,
    "editable": true
   },
   "outputs": [],
   "source": [
    "# African-American\n",
    "african_bottom_income = 10000\n",
    "african_lower_quartile_income = 17500\n",
    "african_median_income = 37500\n",
    "african_upper_quartile_income = 67500\n",
    "african_top_income = 112500\n",
    "\n",
    "african = [african_bottom_income, african_lower_quartile_income, african_median_income, \n",
    "           african_upper_quartile_income, african_top_income]\n",
    "\n",
    "# Asian\n",
    "asian_bottom_income = 12500\n",
    "asian_lower_quartile_income = 37500\n",
    "asian_median_income = 67500\n",
    "asian_upper_quartile_income = 112500\n",
    "asian_top_income = 200000\n",
    "\n",
    "asian = [asian_bottom_income, asian_lower_quartile_income, asian_median_income, \n",
    "           asian_upper_quartile_income, asian_top_income]\n",
    "\n",
    "# Hispanic\n",
    "hispanic_bottom_income = 12500\n",
    "hispanic_lower_quartile_income = 22500\n",
    "hispanic_median_income = 42500\n",
    "hispanic_upper_quartile_income = 67500\n",
    "hispanic_top_income = 112500\n",
    "\n",
    "hispanic = [hispanic_bottom_income, hispanic_lower_quartile_income, hispanic_median_income, \n",
    "           hispanic_upper_quartile_income, hispanic_top_income]\n",
    "\n",
    "# White\n",
    "white_bottom_income = 10000\n",
    "white_lower_quartile_income = 32500\n",
    "white_median_income = 55000\n",
    "white_upper_quartile_income = 112500\n",
    "white_top_income = 175000\n",
    "\n",
    "white = [white_bottom_income, white_lower_quartile_income, white_median_income, \n",
    "           white_upper_quartile_income, white_top_income]\n",
    "\n",
    "demographic_income = [african, asian, hispanic, white]\n",
    "\n",
    "\n",
    "# figure related code\n",
    "fig = plt.figure()\n",
    "fig.suptitle('Income by Race', fontsize=14, fontweight='bold')\n",
    "\n",
    "ax = fig.add_subplot(111)\n",
    "ax.boxplot(demographic_income)\n",
    "\n",
    "ax.set_xlabel('Race: 1 for African, 2 for Asian, 3 for Hispanic, 4 for White')\n",
    "ax.set_ylabel('Income')\n",
    "\n",
    "\n",
    "plt.show()"
   ]
  },
  {
   "cell_type": "markdown",
   "metadata": {
    "deletable": true,
    "editable": true
   },
   "source": [
    "What conclusions can we draw from this box plot? What effect might this have on the SES calculation as defined?\n",
    "\n",
    "$SES = p_i * \\text{income score} + p_e * \\text{years of education}$ \n"
   ]
  },
  {
   "cell_type": "markdown",
   "metadata": {
    "collapsed": true,
    "deletable": true,
    "editable": true
   },
   "source": [
    "# Initial SES Comparison\n",
    "\n",
    "We are going to analyze SES in relation to race, first by determining the ratio of how the average SES (income) for a specific race (e.g. African American) compares in relation to the average SES (income) for all US citizens.\n",
    "\n",
    "Then we are going to find the same ratio again, but this time with average African American SES (wealth) in relation to average SES (wealth) for all US citizens.\n",
    "\n",
    "This may give an indication of how including wealth as a factor can dramatically change SES index values.\n",
    "\n",
    "---\n",
    "\n",
    "First, all references to SES will refer to the standard income definition of SES.\n",
    "\n",
    "Then we will change the weightings used in SES and see how that impacts our SES index and performance ranking.\n",
    "\n",
    "We must first determine the ratio:\n",
    "\n",
    "$\\displaystyle \\frac {\\text{average SES for African Americans}} {\\text{average SES for all US citizens}}$\n",
    "\n",
    "We are going to look specifically at 2 variables: income and years of education. \n",
    "The following table displays information for income for African-Americans."
   ]
  },
  {
   "cell_type": "code",
   "execution_count": null,
   "metadata": {
    "collapsed": false,
    "deletable": true,
    "editable": true
   },
   "outputs": [],
   "source": [
    "aaincome = incomebyrace.select(0,1)\n",
    "aaincome.show()"
   ]
  },
  {
   "cell_type": "markdown",
   "metadata": {
    "deletable": true,
    "editable": true
   },
   "source": [
    "The following table displays the same information regarding income for all US citizens in aggregate: "
   ]
  },
  {
   "cell_type": "code",
   "execution_count": null,
   "metadata": {
    "collapsed": false,
    "deletable": true,
    "editable": true,
    "scrolled": true
   },
   "outputs": [],
   "source": [
    "income.show()"
   ]
  },
  {
   "cell_type": "code",
   "execution_count": null,
   "metadata": {
    "collapsed": false,
    "deletable": true,
    "editable": true
   },
   "outputs": [],
   "source": [
    "# Code to remove commas and coerce into integers for manipulation later\n",
    "preincomes = income.column(\"Total Estimate\")\n",
    "total = 0\n",
    "estimate = []\n",
    "for x in preincomes:\n",
    "    n = (int)(x.replace(\",\", \"\"))\n",
    "    total =  (total + (n))\n",
    "    estimate.append(total)    \n",
    "income = Table().with_columns(\n",
    "    \"Income Bracket ($)\", income[' Income Bracket ($)'], \n",
    "    \"Total Estimate\", estimate)"
   ]
  },
  {
   "cell_type": "code",
   "execution_count": null,
   "metadata": {
    "collapsed": false,
    "deletable": true,
    "editable": true
   },
   "outputs": [],
   "source": [
    "income.show()"
   ]
  },
  {
   "cell_type": "code",
   "execution_count": null,
   "metadata": {
    "collapsed": false,
    "deletable": true,
    "editable": true
   },
   "outputs": [],
   "source": [
    "# Code to remove commas and coerce into integers for manipulation later\n",
    "preeduc = educ.column(\"Total Estimate\")\n",
    "total = 0\n",
    "estimate = []\n",
    "for i,x in enumerate(preeduc):\n",
    "    n = (int)(x.replace(\",\", \"\"))\n",
    "    if i > 0:\n",
    "        total =  (total + (n))\n",
    "        estimate.append(total) \n",
    "    else:\n",
    "        estimate.append(n)\n",
    "\n",
    "educ = Table().with_columns(\n",
    "    \"Educational Attainment\", educ['Educational Attainment '], \n",
    "    \"Total Estimate\", estimate,\n",
    "    \"Cumulative Population\", educ['Cumulative Population'])"
   ]
  },
  {
   "cell_type": "code",
   "execution_count": null,
   "metadata": {
    "collapsed": false,
    "deletable": true,
    "editable": true
   },
   "outputs": [],
   "source": [
    "educ.show()"
   ]
  },
  {
   "cell_type": "markdown",
   "metadata": {},
   "source": [
    "If we divide the total population by 2, we can use that number to look for the median educational attainment level:"
   ]
  },
  {
   "cell_type": "code",
   "execution_count": null,
   "metadata": {
    "collapsed": false,
    "deletable": true,
    "editable": true
   },
   "outputs": [],
   "source": [
    "educ['Total Estimate'][0]/2"
   ]
  },
  {
   "cell_type": "markdown",
   "metadata": {
    "collapsed": true,
    "deletable": true,
    "editable": true
   },
   "source": [
    "Which population bracket does this fall under?\n",
    "\n",
    "If we wanted to roughly quantify median years of education it falls between \"Some college, less than 1 year\" and \"Some college, 1 or more years, no degree\" is approximately 12.5\n"
   ]
  },
  {
   "cell_type": "code",
   "execution_count": null,
   "metadata": {
    "collapsed": true,
    "deletable": true,
    "editable": true
   },
   "outputs": [],
   "source": [
    "# Assign this to the variable 'mededuc'\n",
    "med_educ = 12.5"
   ]
  },
  {
   "cell_type": "markdown",
   "metadata": {
    "deletable": true,
    "editable": true
   },
   "source": [
    "We have already crunched some numbers for you, to get the following data:\n",
    "\n",
    "<li>median income for African Americans: $37,500</li>\n",
    "<li>median years of school for African Americans: 13 years of school</li>\n",
    "\n",
    "<li>median income for all US citizens: $55,000</li>\n",
    "<li>median years of school for all US citizens: 12.5 years of school</li>\n",
    "\n",
    "Source: https://factfinder.census.gov/faces/tableservices/jsf/pages/productview.xhtml?pid=ACS_15_5YR_B15002&prodType=table\n",
    "\n",
    "From here we're going to use weightings of $p_i$ = 0.8 and $p_e$ 0.2 to calculate our SES. Recall that our formula for SES is:\n",
    "\n",
    "$p_i * \\text{income score} + p_e * \\text{years of education}$\n",
    "\n",
    "Recall income scores from Table 1: Income Scores\n",
    "\n",
    "\n",
    "<table>\n",
    "  <tr>\n",
    "    <th>Income Score</th>\n",
    "    <th>Income Bracket (\\$) </th>\n",
    "  </tr>\n",
    "  <tr>\n",
    "    <td>1</td>\n",
    "    <td>less than \\$10,000</td>\n",
    "  </tr>\n",
    " <tr>\n",
    "    <td>2</td>\n",
    "    <td>\\$15,000 - \\$19,999</td>\n",
    "  </tr>\n",
    "  <tr>\n",
    "    <td>3</td>\n",
    "    <td>\\$20,000 - \\$24,999</td>\n",
    "  </tr>\n",
    "  <tr>\n",
    "    <td>4</td>\n",
    "    <td>\\$25,000 - \\$29,999</td>\n",
    "  </tr>\n",
    "  <tr>\n",
    "    <td>5</td>\n",
    "    <td>\\$30,000 - \\$34,999</td>\n",
    "  </tr>\n",
    "    <tr>\n",
    "    <td>6</td>\n",
    "    <td>\\$35,000 - \\$39,999</td>\n",
    "  </tr>\n",
    "    <tr>\n",
    "    <td>7</td>\n",
    "    <td>\\$40,000 - \\$44,999</td>\n",
    "  </tr>\n",
    "    <tr>\n",
    "    <td>8</td>\n",
    "    <td>\\$45,000 - \\$49,999</td>\n",
    "  </tr>\n",
    "    <tr>\n",
    "    <td>9</td>\n",
    "    <td>\\$50,000 - \\$59,999</td>\n",
    "  </tr>\n",
    "   <tr>\n",
    "    <td>10</td>\n",
    "    <td>\\$60,000 - \\$74,999</td>\n",
    "  </tr> \n",
    "   <tr>\n",
    "    <td>11</td>\n",
    "    <td>\\$75,000 - \\$99,999</td>\n",
    "  </tr>   \n",
    "   <tr>\n",
    "    <td>12</td>\n",
    "    <td>\\$100,000 - \\$124,999</td>\n",
    "  </tr> \n",
    "   <tr>\n",
    "    <td>13</td>\n",
    "    <td>\\$125,000 - \\$149,999</td>\n",
    "  </tr> \n",
    "   <tr>\n",
    "    <td>14</td>\n",
    "    <td>\\$150,000 - \\$199,999</td>\n",
    "  </tr>\n",
    "   <tr>\n",
    "    <td>15</td>\n",
    "    <td>\\$200,000 or more</td>\n",
    "  </tr> \n",
    "</table>\n",
    "\n",
    "Recall the formula for SES (income):\n",
    "\n",
    "$p_i * \\text{income score} + p_e * \\text{years of education}$\n",
    "\n",
    "Using the information above, find the SES for a median African American individual. Enter this value in the cell below."
   ]
  },
  {
   "cell_type": "code",
   "execution_count": null,
   "metadata": {
    "collapsed": false,
    "deletable": true,
    "editable": true
   },
   "outputs": [],
   "source": []
  },
  {
   "cell_type": "markdown",
   "metadata": {
    "deletable": true,
    "editable": true
   },
   "source": [
    "Find the SES for the median US citizen. Enter this value in the cell below."
   ]
  },
  {
   "cell_type": "code",
   "execution_count": null,
   "metadata": {
    "collapsed": true,
    "deletable": true,
    "editable": true
   },
   "outputs": [],
   "source": []
  },
  {
   "cell_type": "markdown",
   "metadata": {
    "deletable": true,
    "editable": true
   },
   "source": [
    "---\n",
    "\n",
    "We will now explore how the value of SES that we got above changes when we change the leading factor for SES from income to wealth. We will measure wealth through net worth data displayed below from the 2013 Census. "
   ]
  },
  {
   "cell_type": "code",
   "execution_count": null,
   "metadata": {
    "collapsed": false,
    "deletable": true,
    "editable": true
   },
   "outputs": [],
   "source": [
    "wealthbyrace.show()"
   ]
  },
  {
   "cell_type": "markdown",
   "metadata": {},
   "source": [
    "Use the median net worth by race in the above table, to detrmine the wealth score from the brackets in the table below:"
   ]
  },
  {
   "cell_type": "code",
   "execution_count": null,
   "metadata": {
    "collapsed": false
   },
   "outputs": [],
   "source": [
    "wealthscoretable.show()"
   ]
  },
  {
   "cell_type": "markdown",
   "metadata": {
    "deletable": true,
    "editable": true
   },
   "source": [
    "Let us now calculate SES wealth using the new formula using the wealth score as defined below: \n",
    "\n",
    "Recall the formula: \n",
    "<br>\n",
    "<br>\n",
    "$p_w * \\text {wealth score} + p_e * \\text {years of education}$, \n",
    "<br>\n",
    "<br>\n",
    "where $p_w$ and $p_e$ retain the same weights as before, 0.8 and 0.2 respectively.\n",
    "\n",
    "Enter in your value for SES (wealth) for an average US citizen (total wealth) and an average African American below."
   ]
  },
  {
   "cell_type": "code",
   "execution_count": null,
   "metadata": {
    "collapsed": true,
    "deletable": true,
    "editable": true
   },
   "outputs": [],
   "source": []
  },
  {
   "cell_type": "markdown",
   "metadata": {
    "deletable": true,
    "editable": true
   },
   "source": [
    "Compare your values for SES (income) and SES (wealth) for both the average US citizen and the average African American. What are the implications of having different SES values?"
   ]
  },
  {
   "cell_type": "code",
   "execution_count": null,
   "metadata": {
    "collapsed": true,
    "deletable": true,
    "editable": true
   },
   "outputs": [],
   "source": []
  },
  {
   "cell_type": "markdown",
   "metadata": {
    "deletable": true,
    "editable": true
   },
   "source": [
    "# Changing SES Weights\n",
    "\n",
    "Moving foward, we will only be using SES (income), defined as:\n",
    "<br>\n",
    "<br>\n",
    "$p_i * \\text{income score} + p_e * \\text{years of education}$, \n",
    "<br>\n",
    "<br>\n",
    "Up to this point, we have maintained weights of $p_i$ = 0.8 and $p_e$ = 0.2. These weights are arbitrary numbers that sum up to 1.0 chosen by how much importance we assign to a factor in our SES index value. In this case, we say that 80% of our SES index is determined by income and 20% is determined by years of education.\n",
    "\n",
    "We will now experiment with toggling between different weightings for SES. \n",
    "\n",
    "We are going to take the case of Chris: an African-American with an income of $35,000$ and 16 years of education. First we will compute the ratio of \n",
    "\n",
    "\n",
    "$\\displaystyle \\frac {\\text{individual SES}} {\\text{median US SES}}$, and then we will compute $\\displaystyle \\frac {\\text{individual SES}} {\\text{median African American SES}}$.\n",
    "\n",
    "\n",
    "Recall the information that was provided earlier:\n",
    "\n",
    "median income for African Americans: $37,500\n",
    "<br>\n",
    "median years of school for African Americans: 13 years of school\n",
    "\n",
    "median income for all US citizens: $55,000\n",
    "<br>\n",
    "median years of school for all US citizens: 12.5 years of school"
   ]
  },
  {
   "cell_type": "code",
   "execution_count": null,
   "metadata": {
    "collapsed": false,
    "deletable": true,
    "editable": true
   },
   "outputs": [],
   "source": [
    "from IPython.display import display\n",
    "from ipywidgets import interact, interactive, fixed, interact_manual\n",
    "\n",
    "# Enter value for median income\n",
    "african_income_median = 37500\n",
    "african_income_median_score = 6\n",
    "\n",
    "# Enter value for median education\n",
    "african_education_median = 13\n",
    "\n",
    "def calculateSES(p_i, income_median_score, education_median):\n",
    "    p_e = 100 - p_i\n",
    "    return p_i * 0.01 * income_median_score + p_e * 0.01 * education_median\n",
    "\n",
    "interact(calculateSES, p_i = (0, 100), income_median_score = (1, 15), education_median = (0, 24));\n",
    "\n",
    "#Source: http://ipywidgets.readthedocs.io/en/latest/examples/Using%20Interact.html "
   ]
  },
  {
   "cell_type": "markdown",
   "metadata": {
    "collapsed": true,
    "deletable": true,
    "editable": true
   },
   "source": [
    "Use the slider above (if you don't see three sliders, make sure you have run the code cell). The numbers are in percent, so 80 on the slider corresponds to 80% for $p_i$. Recall that $p_i + p_e = 1$ so automatically this means that $p_e$ = 20%.\n",
    "\n",
    "Compute Chris' $\\displaystyle \\frac {\\text{individual SES}} {\\text{median US SES}}$ using weightings of 0.8 and 0.2. Recall Table 1: Income Scores at the top of this lab. Is he overperforming or underperforming?"
   ]
  },
  {
   "cell_type": "code",
   "execution_count": null,
   "metadata": {
    "collapsed": false,
    "deletable": true,
    "editable": true
   },
   "outputs": [],
   "source": []
  },
  {
   "cell_type": "markdown",
   "metadata": {
    "deletable": true,
    "editable": true
   },
   "source": [
    "Compute his $\\displaystyle \\frac {\\text{individual SES}} {\\text{median African American SES}}$. Is he overperforming or underperforming?"
   ]
  },
  {
   "cell_type": "code",
   "execution_count": null,
   "metadata": {
    "collapsed": true,
    "deletable": true,
    "editable": true
   },
   "outputs": [],
   "source": []
  },
  {
   "cell_type": "markdown",
   "metadata": {
    "deletable": true,
    "editable": true
   },
   "source": [
    "Now lets change the weights to 0.5 and 0.5. Compute his $\\displaystyle \\frac {\\text{individual SES}} {\\text{median US SES}}$. Is he overperforming or underperforming?"
   ]
  },
  {
   "cell_type": "code",
   "execution_count": null,
   "metadata": {
    "collapsed": true,
    "deletable": true,
    "editable": true
   },
   "outputs": [],
   "source": []
  },
  {
   "cell_type": "markdown",
   "metadata": {
    "deletable": true,
    "editable": true
   },
   "source": [
    "Compute his $\\displaystyle \\frac {\\text{individual SES}} {\\text{median African American SES}}$ with weights of 0.5 and 0.5. Is he overperforming or underperforming?"
   ]
  },
  {
   "cell_type": "code",
   "execution_count": null,
   "metadata": {
    "collapsed": true,
    "deletable": true,
    "editable": true
   },
   "outputs": [],
   "source": []
  },
  {
   "cell_type": "markdown",
   "metadata": {
    "deletable": true,
    "editable": true
   },
   "source": [
    "How does the importance that we place on certain factors affect Chris' socio-economic status?"
   ]
  },
  {
   "cell_type": "code",
   "execution_count": null,
   "metadata": {
    "collapsed": true,
    "deletable": true,
    "editable": true
   },
   "outputs": [],
   "source": []
  },
  {
   "cell_type": "markdown",
   "metadata": {
    "deletable": true,
    "editable": true
   },
   "source": [
    "Let's change the weightings further: 0.2 for $p_i$ and 0.8 for $p_e$. Calculate the median SES for African Americans."
   ]
  },
  {
   "cell_type": "code",
   "execution_count": null,
   "metadata": {
    "collapsed": true,
    "deletable": true,
    "editable": true
   },
   "outputs": [],
   "source": []
  },
  {
   "cell_type": "markdown",
   "metadata": {
    "deletable": true,
    "editable": true
   },
   "source": [
    "Calculate the median SES for all US citizens using the same weights of 0.2 and  0.8."
   ]
  },
  {
   "cell_type": "code",
   "execution_count": null,
   "metadata": {
    "collapsed": true,
    "deletable": true,
    "editable": true
   },
   "outputs": [],
   "source": []
  },
  {
   "cell_type": "markdown",
   "metadata": {
    "deletable": true,
    "editable": true
   },
   "source": [
    "Are African Americans overperforming or underperforming in relation to all US citizens?"
   ]
  },
  {
   "cell_type": "code",
   "execution_count": null,
   "metadata": {
    "collapsed": true,
    "deletable": true,
    "editable": true
   },
   "outputs": [],
   "source": []
  },
  {
   "cell_type": "markdown",
   "metadata": {
    "deletable": true,
    "editable": true
   },
   "source": [
    "How does this compare to values that you found previously with weights of 0.8 $p_i$ and 0.2 $p_e$?"
   ]
  },
  {
   "cell_type": "code",
   "execution_count": null,
   "metadata": {
    "collapsed": true,
    "deletable": true,
    "editable": true
   },
   "outputs": [],
   "source": []
  },
  {
   "cell_type": "markdown",
   "metadata": {
    "deletable": true,
    "editable": true
   },
   "source": [
    "Suppose there was a public policy initiative to provide increased funding to households of low socio-economic status. The board of this policy is debating if they should focus specially on publicizing this initiative to a certain African American community. How would their decision change based on the SES values that we found?"
   ]
  },
  {
   "cell_type": "code",
   "execution_count": null,
   "metadata": {
    "collapsed": true,
    "deletable": true,
    "editable": true
   },
   "outputs": [],
   "source": []
  },
  {
   "cell_type": "markdown",
   "metadata": {
    "deletable": true,
    "editable": true
   },
   "source": [
    "Write up for each of the following:\n",
    "\n",
    "1. What are some other factors that can influence SES. How would you measure them?\n",
    "\n",
    "2. What are some other aspects other than test scores and school performance that can be influenced by SES. How would you measure them?"
   ]
  },
  {
   "cell_type": "code",
   "execution_count": null,
   "metadata": {
    "collapsed": true,
    "deletable": true,
    "editable": true
   },
   "outputs": [],
   "source": []
  },
  {
   "cell_type": "markdown",
   "metadata": {
    "deletable": true,
    "editable": true
   },
   "source": [
    "Data science involves making decisions like assigning weights to factors to determine SES indices. These decisions are often ambiguous and do not readily provide a clear answer, but the insights and the conclusions that we draw can influence public policy decisions. One important objective of this lab was to demonstrate that data science isn't always clear cut and involves making judgment calls as well."
   ]
  },
  {
   "cell_type": "markdown",
   "metadata": {
    "deletable": true,
    "editable": true
   },
   "source": [
    "## 2.3 Income Inequality benchmarks- the Lorenz Curve & Gini Coefficent\n",
    "\n",
    "![alt text](img/LorenzCurve.jpg \"Lorenz Curve\")\n",
    "\n",
    "Pictured above is a standard Lorenz Curve. We can depict the concentration of wealth using two interlinked methods: the Lorenz Curve and the Gini Coefficient.  The Lorenz curve is a graphical illustration of this and the Gini Coefficient is a numeric representation (a ratio).  \n",
    "The Lorenz curve lines up the population from poorest to richest on the x axis, and then the y-axis graphs cumulative income of all the people poorer than the one on the x axis.  To make these comparable across countries, these are translated into percentages.  \n",
    "(0,0) and (100,100) are always the end points of the curve: 0% of the people own nothing while 100% of the people own 100% of the wealth.  \n",
    "\n",
    "Let's line up our individual income earners to look at inequality just among income earners.  Let's start with a fresh table, with the column of the income.  Let's put the table of incomes in order from lowest to highest.  Then let's make a new column, that adds up all incomes above the row.  Here's an example:\n",
    "\n",
    "<style type=\"text/css\">\n",
    ".tg  {border-collapse:collapse;border-spacing:0;}\n",
    ".tg td{font-family:Arial, sans-serif;font-size:14px;padding:10px 5px;border-style:solid;border-width:1px;overflow:hidden;word-break:normal;}\n",
    ".tg th{font-family:Arial, sans-serif;font-size:14px;font-weight:normal;padding:10px 5px;border-style:solid;border-width:1px;overflow:hidden;word-break:normal;}\n",
    ".tg .tg-baqh{text-align:center;vertical-align:top}\n",
    "</style>\n",
    "<table class=\"tg\">\n",
    "  <tr>\n",
    "    <th class=\"tg-baqh\">Income</th>\n",
    "    <th class=\"tg-baqh\">Cumulative Income</th>\n",
    "  </tr>\n",
    "  <tr>\n",
    "    <td class=\"tg-baqh\">3</td>\n",
    "    <td class=\"tg-baqh\">3</td>\n",
    "  </tr>\n",
    "  <tr>\n",
    "    <td class=\"tg-baqh\">3</td>\n",
    "    <td class=\"tg-baqh\">6</td>\n",
    "  </tr>\n",
    "  <tr>\n",
    "    <td class=\"tg-baqh\">4</td>\n",
    "    <td class=\"tg-baqh\">10</td>\n",
    "  </tr>\n",
    "  <tr>\n",
    "    <td class=\"tg-baqh\">7</td>\n",
    "    <td class=\"tg-baqh\">17</td>\n",
    "  </tr>\n",
    "  <tr>\n",
    "    <td class=\"tg-baqh\">8</td>\n",
    "    <td class=\"tg-baqh\">26</td>\n",
    "  </tr>\n",
    "</table>"
   ]
  },
  {
   "cell_type": "code",
   "execution_count": null,
   "metadata": {
    "collapsed": false,
    "deletable": true,
    "editable": true
   },
   "outputs": [],
   "source": [
    "# Total US\n",
    "lorenzdata.show()"
   ]
  },
  {
   "cell_type": "markdown",
   "metadata": {
    "deletable": true,
    "editable": true
   },
   "source": [
    "The left column shows the upper bound of each income bracket, and the right column shows the number of people that fall in that bracket. We want to construct a table of income and cumulative income. "
   ]
  },
  {
   "cell_type": "code",
   "execution_count": null,
   "metadata": {
    "collapsed": false,
    "deletable": true,
    "editable": true
   },
   "outputs": [],
   "source": [
    "ordered_incomes = lorenzdata.column(\"Income Bracket (less than)\")\n",
    "\n",
    "total = 0\n",
    "cumulative_step = []\n",
    "for x in ordered_incomes:\n",
    "    n = (int)(x.replace(\",\", \"\"))\n",
    "    total =  (total + (n))\n",
    "    cumulative_step.append(total)\n",
    "    \n",
    "lorenz_table = Table().with_columns(\n",
    "    [\"Income\", ordered_incomes],\n",
    "    [\"Cumulative Incomes\", cumulative_step])\n",
    "\n",
    "lorenz_table.show()"
   ]
  },
  {
   "cell_type": "markdown",
   "metadata": {
    "deletable": true,
    "editable": true
   },
   "source": [
    "Next we want to calculate what proportion of the population is in each income bracket. We do this by dividing each cell of the column \"Cumulative Income\" with the number in last cell 1,179,986 which represents the total population."
   ]
  },
  {
   "cell_type": "code",
   "execution_count": null,
   "metadata": {
    "collapsed": false,
    "deletable": true,
    "editable": true
   },
   "outputs": [],
   "source": [
    "total_income = 1179986\n",
    "percents = []\n",
    "for x in cumulative_step:\n",
    "    percent = x / total_income\n",
    "    percents.append(percent)\n",
    "    \n",
    "lorenz_table = Table().with_columns(\n",
    "    [\"Income\", ordered_incomes],\n",
    "    [\"Cumulative Incomes\", cumulative_step],\n",
    "    [\"Percent Income\", percents])\n",
    "\n",
    "lorenz_table.show()"
   ]
  },
  {
   "cell_type": "markdown",
   "metadata": {
    "deletable": true,
    "editable": true
   },
   "source": [
    "Notice how the last cell in the \"Percent Income\" column reads 1. This is a good check that we are on the right direction, but each value in the \"Percent Income\" column is $\\frac {\\text {income at that cumulative step}} {\\text {total income}}$. Now we are going to create a \"Cumulative Population\" column similar to how we created \"Cumulative Incomes\"."
   ]
  },
  {
   "cell_type": "code",
   "execution_count": null,
   "metadata": {
    "collapsed": false,
    "deletable": true,
    "editable": true
   },
   "outputs": [],
   "source": [
    "population = lorenzdata.column(\"Total Estimate\")\n",
    "\n",
    "total_pop = 0\n",
    "cumulative_pop = []\n",
    "for x in population:\n",
    "    n = (int) (x.replace(\",\", \"\"))\n",
    "    total_pop =  (total_pop + (n))\n",
    "    cumulative_pop.append(total_pop)\n",
    "    \n",
    "lorenz_table = Table().with_columns(\n",
    "    [\"Income\", ordered_incomes],\n",
    "    [\"Cumulative Incomes\", cumulative_step],\n",
    "    [\"Percent Income\", percents],\n",
    "    [\"Population\", population],\n",
    "    [\"Cumulative Population\", cumulative_pop])\n",
    "\n",
    "lorenz_table.show()"
   ]
  },
  {
   "cell_type": "markdown",
   "metadata": {
    "deletable": true,
    "editable": true
   },
   "source": [
    "Now we're going to create a \"Percent Population\" column."
   ]
  },
  {
   "cell_type": "code",
   "execution_count": null,
   "metadata": {
    "collapsed": false,
    "deletable": true,
    "editable": true
   },
   "outputs": [],
   "source": [
    "total_pop = 116926305\n",
    "pop_percent = []\n",
    "\n",
    "for i in cumulative_pop:\n",
    "    p = i / total_pop\n",
    "    pop_percent.append(p)\n",
    "    \n",
    "lorenz_table = Table().with_columns(\n",
    "    [\"Income\", ordered_incomes],\n",
    "    [\"Cumulative Incomes\", cumulative_step],\n",
    "    [\"Percent Income\", percents],\n",
    "    [\"Population\", population],\n",
    "    [\"Cumulative Population\", cumulative_pop],\n",
    "    [\"Percent Population\", pop_percent])\n",
    "\n",
    "lorenz_table.show()"
   ]
  },
  {
   "cell_type": "markdown",
   "metadata": {
    "deletable": true,
    "editable": true
   },
   "source": [
    "Now, with this table constructed, we are ready to graph the Lorenz Curve!"
   ]
  },
  {
   "cell_type": "code",
   "execution_count": null,
   "metadata": {
    "collapsed": false,
    "deletable": true,
    "editable": true
   },
   "outputs": [],
   "source": [
    "x_values = lorenz_table['Percent Population']\n",
    "y_values = lorenz_table['Percent Income']\n",
    "\n",
    "plt.scatter(x_values, y_values)"
   ]
  },
  {
   "cell_type": "markdown",
   "metadata": {
    "deletable": true,
    "editable": true
   },
   "source": [
    "## Calculate the Gini coefficient:\n",
    "The Gini coefficient is the area between the line and the 45% line.  It is the sum of the differences between Percent Population and Percent Income divided by the sum of Percent Population.  This number is between 0 and 1.  Consider if a smaller number represents more inequality and what the relationship of the formula to the graph is. The higher the Gini-coefficient is, the more unequal is the distribution of the thing being distributed across the population in question.  \n",
    "\n",
    "$$ \\frac{\\Sigma_{i=1}^{N} (\\% Pop_i - \\% Inc_i)}{\\Sigma_{i=1}^{N} \\% Pop_i}$$\n",
    "\n",
    "Note that if there were perfect equality, $\\% Pop_i = \\% Inc_i$."
   ]
  },
  {
   "cell_type": "markdown",
   "metadata": {
    "deletable": true,
    "editable": true
   },
   "source": [
    "Below we are going to create a column \"Differences\" that will hold the values of \"Percent Population\" - \"Percent Income\""
   ]
  },
  {
   "cell_type": "code",
   "execution_count": null,
   "metadata": {
    "collapsed": false,
    "deletable": true,
    "editable": true
   },
   "outputs": [],
   "source": [
    "from operator import sub\n",
    "differences = map(sub, pop_percent, percents)\n",
    "\n",
    "lorenz_table = Table().with_columns(\n",
    "     [\"Income\", ordered_incomes],\n",
    "     [\"Cumulative Incomes\", cumulative_step],\n",
    "     [\"Percent Income\", percents],\n",
    "     [\"Population\", population],\n",
    "     [\"Cumulative Population\", cumulative_pop],\n",
    "     [\"Percent Population\", pop_percent],\n",
    "     [\"Differences\", differences])\n",
    "\n",
    "lorenz_table.show() "
   ]
  },
  {
   "cell_type": "markdown",
   "metadata": {
    "collapsed": true,
    "deletable": true,
    "editable": true
   },
   "source": [
    "To calculate the Gini coefficient, we need the sum of all the differences. The code cell below is going to find that sum."
   ]
  },
  {
   "cell_type": "code",
   "execution_count": null,
   "metadata": {
    "collapsed": false,
    "deletable": true,
    "editable": true
   },
   "outputs": [],
   "source": [
    "# also the actual sum for the column of differences gives a value of 3.1609032\n",
    "# after division the Gini coefficient is supposed to be less than 1\n",
    "\n",
    "sum_diff = 0\n",
    "differences = lorenz_table.column(\"Differences\")\n",
    "for d in differences:\n",
    "    sum_diff = sum_diff + d\n",
    "\n",
    "print(sum_diff)"
   ]
  },
  {
   "cell_type": "markdown",
   "metadata": {
    "deletable": true,
    "editable": true
   },
   "source": [
    "Find the Gini coefficient for all US citizens. \n",
    "\n",
    "Divide the sum of the differences by ${\\Sigma_{i=1}^{N} \\% Pop_i}$. This is your Gini coefficient for all US citizens. Enter your value below."
   ]
  },
  {
   "cell_type": "code",
   "execution_count": null,
   "metadata": {
    "collapsed": false,
    "deletable": true,
    "editable": true
   },
   "outputs": [],
   "source": [
    "denom = 0;\n",
    "denom_list = lorenz_table.column(\"Percent Population\")\n",
    "for d in denom_list:\n",
    "    denom += d;\n",
    "\n",
    "print(sum_diff / denom)"
   ]
  },
  {
   "cell_type": "code",
   "execution_count": null,
   "metadata": {
    "collapsed": false
   },
   "outputs": [],
   "source": [
    "GC = # Remove this text and enter the value you calculated for the Gini coefficient here\n",
    "print(\"The Gini coefficient is: \", GC )"
   ]
  }
 ],
 "metadata": {
  "anaconda-cloud": {},
  "kernelspec": {
   "display_name": "Python [default]",
   "language": "python",
   "name": "python3"
  },
  "language_info": {
   "codemirror_mode": {
    "name": "ipython",
    "version": 3
   },
   "file_extension": ".py",
   "mimetype": "text/x-python",
   "name": "python",
   "nbconvert_exporter": "python",
   "pygments_lexer": "ipython3",
   "version": "3.5.2"
  }
 },
 "nbformat": 4,
 "nbformat_minor": 2
}
